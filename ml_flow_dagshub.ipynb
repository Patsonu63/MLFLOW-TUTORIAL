{
  "cells": [
    {
      "cell_type": "markdown",
      "metadata": {
        "id": "view-in-github",
        "colab_type": "text"
      },
      "source": [
        "<a href=\"https://colab.research.google.com/github/Patsonu63/mlflow/blob/main/ml_flow_dagshub.ipynb\" target=\"_parent\"><img src=\"https://colab.research.google.com/assets/colab-badge.svg\" alt=\"Open In Colab\"/></a>"
      ]
    },
    {
      "cell_type": "markdown",
      "id": "b4f9d400",
      "metadata": {
        "id": "b4f9d400"
      },
      "source": [
        " ML Flow Dagshub Tutorial\n",
        "\n"
      ]
    },
    {
      "cell_type": "code",
      "execution_count": null,
      "id": "5eb3c2b2",
      "metadata": {
        "id": "5eb3c2b2"
      },
      "outputs": [],
      "source": [
        "import numpy as np\n",
        "from sklearn.datasets import make_classification\n",
        "from sklearn.model_selection import train_test_split\n",
        "from sklearn.linear_model import LogisticRegression\n",
        "from sklearn.ensemble import RandomForestClassifier\n",
        "from xgboost import XGBClassifier\n",
        "from sklearn.metrics import classification_report\n",
        "import warnings\n",
        "warnings.filterwarnings('ignore')"
      ]
    },
    {
      "cell_type": "code",
      "execution_count": null,
      "id": "0878fc4c",
      "metadata": {
        "id": "0878fc4c",
        "outputId": "d90854b0-fc5e-4030-c7ee-f79463f6728d"
      },
      "outputs": [
        {
          "data": {
            "text/plain": [
              "(array([0, 1]), array([900, 100], dtype=int64))"
            ]
          },
          "execution_count": 2,
          "metadata": {},
          "output_type": "execute_result"
        }
      ],
      "source": [
        "# Step 1: Create an imbalanced binary classification dataset\n",
        "X, y = make_classification(n_samples=1000, n_features=10, n_informative=2, n_redundant=8,\n",
        "                           weights=[0.9, 0.1], flip_y=0, random_state=42)\n",
        "\n",
        "np.unique(y, return_counts=True)"
      ]
    },
    {
      "cell_type": "code",
      "execution_count": null,
      "id": "2a6b80dd",
      "metadata": {
        "id": "2a6b80dd"
      },
      "outputs": [],
      "source": [
        "# Split the dataset into training and testing sets\n",
        "X_train, X_test, y_train, y_test = train_test_split(X, y, test_size=0.3, stratify=y, random_state=42)"
      ]
    },
    {
      "cell_type": "markdown",
      "id": "f3a6191b",
      "metadata": {
        "id": "f3a6191b"
      },
      "source": [
        "#### Handle class imbalance"
      ]
    },
    {
      "cell_type": "code",
      "execution_count": null,
      "id": "3190fd47",
      "metadata": {
        "id": "3190fd47",
        "outputId": "37fd89a0-4eaa-4bbf-8e8d-74e2de9d0094"
      },
      "outputs": [
        {
          "data": {
            "text/plain": [
              "(array([0, 1]), array([619, 619], dtype=int64))"
            ]
          },
          "execution_count": 4,
          "metadata": {},
          "output_type": "execute_result"
        }
      ],
      "source": [
        "from imblearn.combine import SMOTETomek\n",
        "\n",
        "smt = SMOTETomek(random_state=42)\n",
        "X_train_res, y_train_res = smt.fit_resample(X_train, y_train)\n",
        "np.unique(y_train_res, return_counts=True)"
      ]
    },
    {
      "cell_type": "markdown",
      "id": "75b6f715",
      "metadata": {
        "id": "75b6f715"
      },
      "source": [
        "### Track Experiments"
      ]
    },
    {
      "cell_type": "code",
      "execution_count": null,
      "id": "1eb49554",
      "metadata": {
        "id": "1eb49554"
      },
      "outputs": [],
      "source": [
        "models = [\n",
        "    (\n",
        "        \"Logistic Regression\",\n",
        "        {\"C\": 1, \"solver\": 'liblinear'},\n",
        "        LogisticRegression(),\n",
        "        (X_train, y_train),\n",
        "        (X_test, y_test)\n",
        "    ),\n",
        "    (\n",
        "        \"Random Forest\",\n",
        "        {\"n_estimators\": 30, \"max_depth\": 3},\n",
        "        RandomForestClassifier(),\n",
        "        (X_train, y_train),\n",
        "        (X_test, y_test)\n",
        "    ),\n",
        "    (\n",
        "        \"XGBClassifier\",\n",
        "        {\"use_label_encoder\": False, \"eval_metric\": 'logloss'},\n",
        "        XGBClassifier(),\n",
        "        (X_train, y_train),\n",
        "        (X_test, y_test)\n",
        "    ),\n",
        "    (\n",
        "        \"XGBClassifier With SMOTE\",\n",
        "        {\"use_label_encoder\": False, \"eval_metric\": 'logloss'},\n",
        "        XGBClassifier(),\n",
        "        (X_train_res, y_train_res),\n",
        "        (X_test, y_test)\n",
        "    )\n",
        "]"
      ]
    },
    {
      "cell_type": "code",
      "execution_count": null,
      "id": "a91ad5ae",
      "metadata": {
        "id": "a91ad5ae"
      },
      "outputs": [],
      "source": [
        "reports = []\n",
        "\n",
        "for model_name, params, model, train_set, test_set in models:\n",
        "    X_train = train_set[0]\n",
        "    y_train = train_set[1]\n",
        "    X_test = test_set[0]\n",
        "    y_test = test_set[1]\n",
        "\n",
        "    model.set_params(**params)\n",
        "    model.fit(X_train, y_train)\n",
        "    y_pred = model.predict(X_test)\n",
        "    report = classification_report(y_test, y_pred, output_dict=True)\n",
        "    reports.append(report)"
      ]
    },
    {
      "cell_type": "code",
      "execution_count": null,
      "id": "08741b0a",
      "metadata": {
        "id": "08741b0a"
      },
      "outputs": [],
      "source": [
        "import mlflow\n",
        "import mlflow.sklearn\n",
        "import mlflow.xgboost"
      ]
    },
    {
      "cell_type": "code",
      "execution_count": null,
      "id": "503f6e93",
      "metadata": {
        "id": "503f6e93",
        "outputId": "5e98342c-96c3-48b4-9a6e-3ed29230215c"
      },
      "outputs": [
        {
          "data": {
            "text/html": [
              "<pre style=\"white-space:pre;overflow-x:auto;line-height:normal;font-family:Menlo,'DejaVu Sans Mono',consolas,'Courier New',monospace\">Accessing as dhavalsays\n",
              "</pre>\n"
            ],
            "text/plain": [
              "Accessing as dhavalsays\n"
            ]
          },
          "metadata": {},
          "output_type": "display_data"
        },
        {
          "data": {
            "text/html": [
              "<pre style=\"white-space:pre;overflow-x:auto;line-height:normal;font-family:Menlo,'DejaVu Sans Mono',consolas,'Courier New',monospace\">Initialized MLflow to track repo <span style=\"color: #008000; text-decoration-color: #008000\">\"learnpythonlanguage/mlflow_dagshub_demo\"</span>\n",
              "</pre>\n"
            ],
            "text/plain": [
              "Initialized MLflow to track repo \u001b[32m\"learnpythonlanguage/mlflow_dagshub_demo\"\u001b[0m\n"
            ]
          },
          "metadata": {},
          "output_type": "display_data"
        },
        {
          "data": {
            "text/html": [
              "<pre style=\"white-space:pre;overflow-x:auto;line-height:normal;font-family:Menlo,'DejaVu Sans Mono',consolas,'Courier New',monospace\">Repository learnpythonlanguage/mlflow_dagshub_demo initialized!\n",
              "</pre>\n"
            ],
            "text/plain": [
              "Repository learnpythonlanguage/mlflow_dagshub_demo initialized!\n"
            ]
          },
          "metadata": {},
          "output_type": "display_data"
        }
      ],
      "source": [
        "# dagshub setup\n",
        "\n",
        "import dagshub\n",
        "dagshub.init(repo_owner='learnpythonlanguage', repo_name='mlflow_dagshub_demo', mlflow=True)"
      ]
    },
    {
      "cell_type": "code",
      "execution_count": null,
      "id": "cfcc9a19",
      "metadata": {
        "scrolled": false,
        "id": "cfcc9a19",
        "outputId": "349acab8-7c1d-4b78-abf9-eb46e042d13a"
      },
      "outputs": [
        {
          "name": "stderr",
          "output_type": "stream",
          "text": [
            "2024/08/01 11:50:40 INFO mlflow.tracking.fluent: Experiment with name 'Anomaly Detection' does not exist. Creating a new experiment.\n"
          ]
        }
      ],
      "source": [
        "# Ideally you will not require following 4 lines if you have started fresh and do not have any previous dagshub credentials on your computer\n",
        "import os\n",
        "os.environ['MLFLOW_TRACKING_USERNAME'] = 'your user name' # 'learnpythonlanguage'\n",
        "os.environ['MLFLOW_TRACKING_PASSWORD'] = 'your password' #\n",
        "os.environ['MLFLOW_TRACKING_URI'] = 'your dagshub unique uri' # https://dagshub.com/learnpythonlanguage/mlflow_dagshub_demo.mlflow\n",
        "\n",
        "# Initialize MLflow\n",
        "mlflow.set_experiment(\"Anomaly Detection\")\n",
        "# mlflow.set_tracking_uri(\"http://localhost:5000\")\n",
        "\n",
        "for i, element in enumerate(models):\n",
        "    model_name = element[0]\n",
        "    params = element[1]\n",
        "    model = element[2]\n",
        "    report = reports[i]\n",
        "\n",
        "    with mlflow.start_run(run_name=model_name):\n",
        "        mlflow.log_params(params)\n",
        "        mlflow.log_metrics({\n",
        "            'accuracy': report['accuracy'],\n",
        "            'recall_class_1': report['1']['recall'],\n",
        "            'recall_class_0': report['0']['recall'],\n",
        "            'f1_score_macro': report['macro avg']['f1-score']\n",
        "        })\n",
        "\n",
        "        if \"XGB\" in model_name:\n",
        "            mlflow.xgboost.log_model(model, \"model\")\n",
        "        else:\n",
        "            mlflow.sklearn.log_model(model, \"model\")"
      ]
    }
  ],
  "metadata": {
    "kernelspec": {
      "display_name": "Python 3 (ipykernel)",
      "language": "python",
      "name": "python3"
    },
    "language_info": {
      "codemirror_mode": {
        "name": "ipython",
        "version": 3
      },
      "file_extension": ".py",
      "mimetype": "text/x-python",
      "name": "python",
      "nbconvert_exporter": "python",
      "pygments_lexer": "ipython3",
      "version": "3.10.11"
    },
    "colab": {
      "provenance": [],
      "include_colab_link": true
    }
  },
  "nbformat": 4,
  "nbformat_minor": 5
}